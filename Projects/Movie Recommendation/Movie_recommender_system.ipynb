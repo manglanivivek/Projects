{
 "cells": [
  {
   "cell_type": "markdown",
   "metadata": {},
   "source": [
    "## Project name: **Movie Recommendation System**\n",
    "#### By Vivek Manglani"
   ]
  },
  {
   "cell_type": "markdown",
   "metadata": {},
   "source": [
    "Data downloaded from : https://www.kaggle.com/datasets/asaniczka/tmdb-movies-dataset-2023-930k-movies"
   ]
  },
  {
   "cell_type": "markdown",
   "metadata": {},
   "source": [
    " ## **1. Importing libraries**"
   ]
  },
  {
   "cell_type": "code",
   "execution_count": 1,
   "metadata": {},
   "outputs": [],
   "source": [
    "import numpy as np\n",
    "import pandas as pd\n",
    "import matplotlib.pyplot as plt\n",
    "import seaborn as sb\n",
    "import time, datetime\n",
    "import warnings\n",
    "warnings.filterwarnings(\"ignore\") \n"
   ]
  },
  {
   "cell_type": "markdown",
   "metadata": {},
   "source": [
    "## **2. Loading the dataset as dataframe**"
   ]
  },
  {
   "cell_type": "code",
   "execution_count": 2,
   "metadata": {},
   "outputs": [],
   "source": [
    "df = pd.read_csv('TMDB_movie_dataset_v11.csv')"
   ]
  },
  {
   "cell_type": "markdown",
   "metadata": {},
   "source": [
    "## **3. Knowing the data**"
   ]
  },
  {
   "cell_type": "markdown",
   "metadata": {},
   "source": [
    "### 3.1 - Columns of dataset"
   ]
  },
  {
   "cell_type": "code",
   "execution_count": 3,
   "metadata": {},
   "outputs": [
    {
     "data": {
      "text/plain": [
       "Index(['id', 'title', 'vote_average', 'vote_count', 'status', 'release_date',\n",
       "       'revenue', 'runtime', 'adult', 'backdrop_path', 'budget', 'homepage',\n",
       "       'imdb_id', 'original_language', 'original_title', 'overview',\n",
       "       'popularity', 'poster_path', 'tagline', 'genres',\n",
       "       'production_companies', 'production_countries', 'spoken_languages'],\n",
       "      dtype='object')"
      ]
     },
     "execution_count": 3,
     "metadata": {},
     "output_type": "execute_result"
    }
   ],
   "source": [
    "df.columns"
   ]
  },
  {
   "cell_type": "markdown",
   "metadata": {},
   "source": [
    "### 3.2 - Basic information about data"
   ]
  },
  {
   "cell_type": "code",
   "execution_count": 4,
   "metadata": {},
   "outputs": [
    {
     "name": "stdout",
     "output_type": "stream",
     "text": [
      "<class 'pandas.core.frame.DataFrame'>\n",
      "RangeIndex: 972627 entries, 0 to 972626\n",
      "Data columns (total 23 columns):\n",
      " #   Column                Non-Null Count   Dtype  \n",
      "---  ------                --------------   -----  \n",
      " 0   id                    972627 non-null  int64  \n",
      " 1   title                 972616 non-null  object \n",
      " 2   vote_average          972627 non-null  float64\n",
      " 3   vote_count            972627 non-null  int64  \n",
      " 4   status                972627 non-null  object \n",
      " 5   release_date          872461 non-null  object \n",
      " 6   revenue               972627 non-null  int64  \n",
      " 7   runtime               972627 non-null  int64  \n",
      " 8   adult                 972627 non-null  bool   \n",
      " 9   backdrop_path         280697 non-null  object \n",
      " 10  budget                972627 non-null  int64  \n",
      " 11  homepage              105765 non-null  object \n",
      " 12  imdb_id               563755 non-null  object \n",
      " 13  original_language     972627 non-null  object \n",
      " 14  original_title        972616 non-null  object \n",
      " 15  overview              799752 non-null  object \n",
      " 16  popularity            972627 non-null  float64\n",
      " 17  poster_path           713345 non-null  object \n",
      " 18  tagline               140215 non-null  object \n",
      " 19  genres                621917 non-null  object \n",
      " 20  production_companies  468986 non-null  object \n",
      " 21  production_countries  585408 non-null  object \n",
      " 22  spoken_languages      593366 non-null  object \n",
      "dtypes: bool(1), float64(2), int64(5), object(15)\n",
      "memory usage: 164.2+ MB\n"
     ]
    }
   ],
   "source": [
    "df.info()"
   ]
  },
  {
   "cell_type": "markdown",
   "metadata": {},
   "source": [
    "### 3.3 - Knowing basiscstatistics of data"
   ]
  },
  {
   "cell_type": "code",
   "execution_count": 5,
   "metadata": {},
   "outputs": [
    {
     "data": {
      "text/html": [
       "<div>\n",
       "<style scoped>\n",
       "    .dataframe tbody tr th:only-of-type {\n",
       "        vertical-align: middle;\n",
       "    }\n",
       "\n",
       "    .dataframe tbody tr th {\n",
       "        vertical-align: top;\n",
       "    }\n",
       "\n",
       "    .dataframe thead th {\n",
       "        text-align: right;\n",
       "    }\n",
       "</style>\n",
       "<table border=\"1\" class=\"dataframe\">\n",
       "  <thead>\n",
       "    <tr style=\"text-align: right;\">\n",
       "      <th></th>\n",
       "      <th>id</th>\n",
       "      <th>vote_average</th>\n",
       "      <th>vote_count</th>\n",
       "      <th>revenue</th>\n",
       "      <th>runtime</th>\n",
       "      <th>budget</th>\n",
       "      <th>popularity</th>\n",
       "    </tr>\n",
       "  </thead>\n",
       "  <tbody>\n",
       "    <tr>\n",
       "      <th>count</th>\n",
       "      <td>9.726270e+05</td>\n",
       "      <td>972627.000000</td>\n",
       "      <td>972627.000000</td>\n",
       "      <td>9.726270e+05</td>\n",
       "      <td>972627.000000</td>\n",
       "      <td>9.726270e+05</td>\n",
       "      <td>972627.000000</td>\n",
       "    </tr>\n",
       "    <tr>\n",
       "      <th>mean</th>\n",
       "      <td>6.450200e+05</td>\n",
       "      <td>2.157136</td>\n",
       "      <td>22.047648</td>\n",
       "      <td>7.563314e+05</td>\n",
       "      <td>51.165072</td>\n",
       "      <td>2.970688e+05</td>\n",
       "      <td>1.385451</td>\n",
       "    </tr>\n",
       "    <tr>\n",
       "      <th>std</th>\n",
       "      <td>3.454888e+05</td>\n",
       "      <td>3.129226</td>\n",
       "      <td>344.218045</td>\n",
       "      <td>1.779256e+07</td>\n",
       "      <td>62.372094</td>\n",
       "      <td>5.019967e+06</td>\n",
       "      <td>8.190235</td>\n",
       "    </tr>\n",
       "    <tr>\n",
       "      <th>min</th>\n",
       "      <td>2.000000e+00</td>\n",
       "      <td>0.000000</td>\n",
       "      <td>0.000000</td>\n",
       "      <td>-1.200000e+01</td>\n",
       "      <td>0.000000</td>\n",
       "      <td>0.000000e+00</td>\n",
       "      <td>0.000000</td>\n",
       "    </tr>\n",
       "    <tr>\n",
       "      <th>25%</th>\n",
       "      <td>3.618035e+05</td>\n",
       "      <td>0.000000</td>\n",
       "      <td>0.000000</td>\n",
       "      <td>0.000000e+00</td>\n",
       "      <td>1.000000</td>\n",
       "      <td>0.000000e+00</td>\n",
       "      <td>0.600000</td>\n",
       "    </tr>\n",
       "    <tr>\n",
       "      <th>50%</th>\n",
       "      <td>6.467980e+05</td>\n",
       "      <td>0.000000</td>\n",
       "      <td>0.000000</td>\n",
       "      <td>0.000000e+00</td>\n",
       "      <td>33.000000</td>\n",
       "      <td>0.000000e+00</td>\n",
       "      <td>0.600000</td>\n",
       "    </tr>\n",
       "    <tr>\n",
       "      <th>75%</th>\n",
       "      <td>9.461455e+05</td>\n",
       "      <td>5.100000</td>\n",
       "      <td>1.000000</td>\n",
       "      <td>0.000000e+00</td>\n",
       "      <td>90.000000</td>\n",
       "      <td>0.000000e+00</td>\n",
       "      <td>0.934000</td>\n",
       "    </tr>\n",
       "    <tr>\n",
       "      <th>max</th>\n",
       "      <td>1.224040e+06</td>\n",
       "      <td>10.000000</td>\n",
       "      <td>34495.000000</td>\n",
       "      <td>2.923706e+09</td>\n",
       "      <td>14400.000000</td>\n",
       "      <td>8.880000e+08</td>\n",
       "      <td>2994.357000</td>\n",
       "    </tr>\n",
       "  </tbody>\n",
       "</table>\n",
       "</div>"
      ],
      "text/plain": [
       "                 id   vote_average     vote_count       revenue  \\\n",
       "count  9.726270e+05  972627.000000  972627.000000  9.726270e+05   \n",
       "mean   6.450200e+05       2.157136      22.047648  7.563314e+05   \n",
       "std    3.454888e+05       3.129226     344.218045  1.779256e+07   \n",
       "min    2.000000e+00       0.000000       0.000000 -1.200000e+01   \n",
       "25%    3.618035e+05       0.000000       0.000000  0.000000e+00   \n",
       "50%    6.467980e+05       0.000000       0.000000  0.000000e+00   \n",
       "75%    9.461455e+05       5.100000       1.000000  0.000000e+00   \n",
       "max    1.224040e+06      10.000000   34495.000000  2.923706e+09   \n",
       "\n",
       "             runtime        budget     popularity  \n",
       "count  972627.000000  9.726270e+05  972627.000000  \n",
       "mean       51.165072  2.970688e+05       1.385451  \n",
       "std        62.372094  5.019967e+06       8.190235  \n",
       "min         0.000000  0.000000e+00       0.000000  \n",
       "25%         1.000000  0.000000e+00       0.600000  \n",
       "50%        33.000000  0.000000e+00       0.600000  \n",
       "75%        90.000000  0.000000e+00       0.934000  \n",
       "max     14400.000000  8.880000e+08    2994.357000  "
      ]
     },
     "execution_count": 5,
     "metadata": {},
     "output_type": "execute_result"
    }
   ],
   "source": [
    "df.describe()"
   ]
  },
  {
   "cell_type": "markdown",
   "metadata": {},
   "source": [
    "### 3.4 - First five rows of Data"
   ]
  },
  {
   "cell_type": "code",
   "execution_count": 6,
   "metadata": {},
   "outputs": [
    {
     "data": {
      "text/html": [
       "<div>\n",
       "<style scoped>\n",
       "    .dataframe tbody tr th:only-of-type {\n",
       "        vertical-align: middle;\n",
       "    }\n",
       "\n",
       "    .dataframe tbody tr th {\n",
       "        vertical-align: top;\n",
       "    }\n",
       "\n",
       "    .dataframe thead th {\n",
       "        text-align: right;\n",
       "    }\n",
       "</style>\n",
       "<table border=\"1\" class=\"dataframe\">\n",
       "  <thead>\n",
       "    <tr style=\"text-align: right;\">\n",
       "      <th></th>\n",
       "      <th>id</th>\n",
       "      <th>title</th>\n",
       "      <th>vote_average</th>\n",
       "      <th>vote_count</th>\n",
       "      <th>status</th>\n",
       "      <th>release_date</th>\n",
       "      <th>revenue</th>\n",
       "      <th>runtime</th>\n",
       "      <th>adult</th>\n",
       "      <th>backdrop_path</th>\n",
       "      <th>...</th>\n",
       "      <th>original_language</th>\n",
       "      <th>original_title</th>\n",
       "      <th>overview</th>\n",
       "      <th>popularity</th>\n",
       "      <th>poster_path</th>\n",
       "      <th>tagline</th>\n",
       "      <th>genres</th>\n",
       "      <th>production_companies</th>\n",
       "      <th>production_countries</th>\n",
       "      <th>spoken_languages</th>\n",
       "    </tr>\n",
       "  </thead>\n",
       "  <tbody>\n",
       "    <tr>\n",
       "      <th>0</th>\n",
       "      <td>27205</td>\n",
       "      <td>Inception</td>\n",
       "      <td>8.364</td>\n",
       "      <td>34495</td>\n",
       "      <td>Released</td>\n",
       "      <td>2010-07-15</td>\n",
       "      <td>825532764</td>\n",
       "      <td>148</td>\n",
       "      <td>False</td>\n",
       "      <td>/8ZTVqvKDQ8emSGUEMjsS4yHAwrp.jpg</td>\n",
       "      <td>...</td>\n",
       "      <td>en</td>\n",
       "      <td>Inception</td>\n",
       "      <td>Cobb, a skilled thief who commits corporate es...</td>\n",
       "      <td>83.952</td>\n",
       "      <td>/oYuLEt3zVCKq57qu2F8dT7NIa6f.jpg</td>\n",
       "      <td>Your mind is the scene of the crime.</td>\n",
       "      <td>Action, Science Fiction, Adventure</td>\n",
       "      <td>Legendary Pictures, Syncopy, Warner Bros. Pict...</td>\n",
       "      <td>United Kingdom, United States of America</td>\n",
       "      <td>English, French, Japanese, Swahili</td>\n",
       "    </tr>\n",
       "    <tr>\n",
       "      <th>1</th>\n",
       "      <td>157336</td>\n",
       "      <td>Interstellar</td>\n",
       "      <td>8.417</td>\n",
       "      <td>32571</td>\n",
       "      <td>Released</td>\n",
       "      <td>2014-11-05</td>\n",
       "      <td>701729206</td>\n",
       "      <td>169</td>\n",
       "      <td>False</td>\n",
       "      <td>/pbrkL804c8yAv3zBZR4QPEafpAR.jpg</td>\n",
       "      <td>...</td>\n",
       "      <td>en</td>\n",
       "      <td>Interstellar</td>\n",
       "      <td>The adventures of a group of explorers who mak...</td>\n",
       "      <td>140.241</td>\n",
       "      <td>/gEU2QniE6E77NI6lCU6MxlNBvIx.jpg</td>\n",
       "      <td>Mankind was born on Earth. It was never meant ...</td>\n",
       "      <td>Adventure, Drama, Science Fiction</td>\n",
       "      <td>Legendary Pictures, Syncopy, Lynda Obst Produc...</td>\n",
       "      <td>United Kingdom, United States of America</td>\n",
       "      <td>English</td>\n",
       "    </tr>\n",
       "    <tr>\n",
       "      <th>2</th>\n",
       "      <td>155</td>\n",
       "      <td>The Dark Knight</td>\n",
       "      <td>8.512</td>\n",
       "      <td>30619</td>\n",
       "      <td>Released</td>\n",
       "      <td>2008-07-16</td>\n",
       "      <td>1004558444</td>\n",
       "      <td>152</td>\n",
       "      <td>False</td>\n",
       "      <td>/nMKdUUepR0i5zn0y1T4CsSB5chy.jpg</td>\n",
       "      <td>...</td>\n",
       "      <td>en</td>\n",
       "      <td>The Dark Knight</td>\n",
       "      <td>Batman raises the stakes in his war on crime. ...</td>\n",
       "      <td>130.643</td>\n",
       "      <td>/qJ2tW6WMUDux911r6m7haRef0WH.jpg</td>\n",
       "      <td>Welcome to a world without rules.</td>\n",
       "      <td>Drama, Action, Crime, Thriller</td>\n",
       "      <td>DC Comics, Legendary Pictures, Syncopy, Isobel...</td>\n",
       "      <td>United Kingdom, United States of America</td>\n",
       "      <td>English, Mandarin</td>\n",
       "    </tr>\n",
       "    <tr>\n",
       "      <th>3</th>\n",
       "      <td>19995</td>\n",
       "      <td>Avatar</td>\n",
       "      <td>7.573</td>\n",
       "      <td>29815</td>\n",
       "      <td>Released</td>\n",
       "      <td>2009-12-15</td>\n",
       "      <td>2923706026</td>\n",
       "      <td>162</td>\n",
       "      <td>False</td>\n",
       "      <td>/vL5LR6WdxWPjLPFRLe133jXWsh5.jpg</td>\n",
       "      <td>...</td>\n",
       "      <td>en</td>\n",
       "      <td>Avatar</td>\n",
       "      <td>In the 22nd century, a paraplegic Marine is di...</td>\n",
       "      <td>79.932</td>\n",
       "      <td>/kyeqWdyUXW608qlYkRqosgbbJyK.jpg</td>\n",
       "      <td>Enter the world of Pandora.</td>\n",
       "      <td>Action, Adventure, Fantasy, Science Fiction</td>\n",
       "      <td>Dune Entertainment, Lightstorm Entertainment, ...</td>\n",
       "      <td>United States of America, United Kingdom</td>\n",
       "      <td>English, Spanish</td>\n",
       "    </tr>\n",
       "    <tr>\n",
       "      <th>4</th>\n",
       "      <td>24428</td>\n",
       "      <td>The Avengers</td>\n",
       "      <td>7.710</td>\n",
       "      <td>29166</td>\n",
       "      <td>Released</td>\n",
       "      <td>2012-04-25</td>\n",
       "      <td>1518815515</td>\n",
       "      <td>143</td>\n",
       "      <td>False</td>\n",
       "      <td>/9BBTo63ANSmhC4e6r62OJFuK2GL.jpg</td>\n",
       "      <td>...</td>\n",
       "      <td>en</td>\n",
       "      <td>The Avengers</td>\n",
       "      <td>When an unexpected enemy emerges and threatens...</td>\n",
       "      <td>98.082</td>\n",
       "      <td>/RYMX2wcKCBAr24UyPD7xwmjaTn.jpg</td>\n",
       "      <td>Some assembly required.</td>\n",
       "      <td>Science Fiction, Action, Adventure</td>\n",
       "      <td>Marvel Studios</td>\n",
       "      <td>United States of America</td>\n",
       "      <td>English, Hindi, Russian</td>\n",
       "    </tr>\n",
       "  </tbody>\n",
       "</table>\n",
       "<p>5 rows × 23 columns</p>\n",
       "</div>"
      ],
      "text/plain": [
       "       id            title  vote_average  vote_count    status release_date  \\\n",
       "0   27205        Inception         8.364       34495  Released   2010-07-15   \n",
       "1  157336     Interstellar         8.417       32571  Released   2014-11-05   \n",
       "2     155  The Dark Knight         8.512       30619  Released   2008-07-16   \n",
       "3   19995           Avatar         7.573       29815  Released   2009-12-15   \n",
       "4   24428     The Avengers         7.710       29166  Released   2012-04-25   \n",
       "\n",
       "      revenue  runtime  adult                     backdrop_path  ...  \\\n",
       "0   825532764      148  False  /8ZTVqvKDQ8emSGUEMjsS4yHAwrp.jpg  ...   \n",
       "1   701729206      169  False  /pbrkL804c8yAv3zBZR4QPEafpAR.jpg  ...   \n",
       "2  1004558444      152  False  /nMKdUUepR0i5zn0y1T4CsSB5chy.jpg  ...   \n",
       "3  2923706026      162  False  /vL5LR6WdxWPjLPFRLe133jXWsh5.jpg  ...   \n",
       "4  1518815515      143  False  /9BBTo63ANSmhC4e6r62OJFuK2GL.jpg  ...   \n",
       "\n",
       "   original_language   original_title  \\\n",
       "0                 en        Inception   \n",
       "1                 en     Interstellar   \n",
       "2                 en  The Dark Knight   \n",
       "3                 en           Avatar   \n",
       "4                 en     The Avengers   \n",
       "\n",
       "                                            overview popularity  \\\n",
       "0  Cobb, a skilled thief who commits corporate es...     83.952   \n",
       "1  The adventures of a group of explorers who mak...    140.241   \n",
       "2  Batman raises the stakes in his war on crime. ...    130.643   \n",
       "3  In the 22nd century, a paraplegic Marine is di...     79.932   \n",
       "4  When an unexpected enemy emerges and threatens...     98.082   \n",
       "\n",
       "                        poster_path  \\\n",
       "0  /oYuLEt3zVCKq57qu2F8dT7NIa6f.jpg   \n",
       "1  /gEU2QniE6E77NI6lCU6MxlNBvIx.jpg   \n",
       "2  /qJ2tW6WMUDux911r6m7haRef0WH.jpg   \n",
       "3  /kyeqWdyUXW608qlYkRqosgbbJyK.jpg   \n",
       "4   /RYMX2wcKCBAr24UyPD7xwmjaTn.jpg   \n",
       "\n",
       "                                             tagline  \\\n",
       "0               Your mind is the scene of the crime.   \n",
       "1  Mankind was born on Earth. It was never meant ...   \n",
       "2                  Welcome to a world without rules.   \n",
       "3                        Enter the world of Pandora.   \n",
       "4                            Some assembly required.   \n",
       "\n",
       "                                        genres  \\\n",
       "0           Action, Science Fiction, Adventure   \n",
       "1            Adventure, Drama, Science Fiction   \n",
       "2               Drama, Action, Crime, Thriller   \n",
       "3  Action, Adventure, Fantasy, Science Fiction   \n",
       "4           Science Fiction, Action, Adventure   \n",
       "\n",
       "                                production_companies  \\\n",
       "0  Legendary Pictures, Syncopy, Warner Bros. Pict...   \n",
       "1  Legendary Pictures, Syncopy, Lynda Obst Produc...   \n",
       "2  DC Comics, Legendary Pictures, Syncopy, Isobel...   \n",
       "3  Dune Entertainment, Lightstorm Entertainment, ...   \n",
       "4                                     Marvel Studios   \n",
       "\n",
       "                       production_countries  \\\n",
       "0  United Kingdom, United States of America   \n",
       "1  United Kingdom, United States of America   \n",
       "2  United Kingdom, United States of America   \n",
       "3  United States of America, United Kingdom   \n",
       "4                  United States of America   \n",
       "\n",
       "                     spoken_languages  \n",
       "0  English, French, Japanese, Swahili  \n",
       "1                             English  \n",
       "2                   English, Mandarin  \n",
       "3                    English, Spanish  \n",
       "4             English, Hindi, Russian  \n",
       "\n",
       "[5 rows x 23 columns]"
      ]
     },
     "execution_count": 6,
     "metadata": {},
     "output_type": "execute_result"
    }
   ],
   "source": [
    "df.head()"
   ]
  },
  {
   "cell_type": "markdown",
   "metadata": {},
   "source": [
    "### 3.5 - Shape of the data"
   ]
  },
  {
   "cell_type": "code",
   "execution_count": 7,
   "metadata": {},
   "outputs": [
    {
     "data": {
      "text/plain": [
       "(972627, 23)"
      ]
     },
     "execution_count": 7,
     "metadata": {},
     "output_type": "execute_result"
    }
   ],
   "source": [
    "df.shape"
   ]
  },
  {
   "cell_type": "markdown",
   "metadata": {},
   "source": [
    "### 3.6 - Datatypes of columns"
   ]
  },
  {
   "cell_type": "code",
   "execution_count": 8,
   "metadata": {},
   "outputs": [
    {
     "data": {
      "text/plain": [
       "id                        int64\n",
       "title                    object\n",
       "vote_average            float64\n",
       "vote_count                int64\n",
       "status                   object\n",
       "release_date             object\n",
       "revenue                   int64\n",
       "runtime                   int64\n",
       "adult                      bool\n",
       "backdrop_path            object\n",
       "budget                    int64\n",
       "homepage                 object\n",
       "imdb_id                  object\n",
       "original_language        object\n",
       "original_title           object\n",
       "overview                 object\n",
       "popularity              float64\n",
       "poster_path              object\n",
       "tagline                  object\n",
       "genres                   object\n",
       "production_companies     object\n",
       "production_countries     object\n",
       "spoken_languages         object\n",
       "dtype: object"
      ]
     },
     "execution_count": 8,
     "metadata": {},
     "output_type": "execute_result"
    }
   ],
   "source": [
    "df.dtypes"
   ]
  },
  {
   "cell_type": "markdown",
   "metadata": {},
   "source": [
    "## **4 -Cleaning the data**"
   ]
  },
  {
   "cell_type": "markdown",
   "metadata": {},
   "source": [
    "### 4.1 - Handling missing values\n"
   ]
  },
  {
   "cell_type": "code",
   "execution_count": 9,
   "metadata": {},
   "outputs": [
    {
     "data": {
      "text/plain": [
       "id                           0\n",
       "title                       11\n",
       "vote_average                 0\n",
       "vote_count                   0\n",
       "status                       0\n",
       "release_date            100166\n",
       "revenue                      0\n",
       "runtime                      0\n",
       "adult                        0\n",
       "backdrop_path           691930\n",
       "budget                       0\n",
       "homepage                866862\n",
       "imdb_id                 408872\n",
       "original_language            0\n",
       "original_title              11\n",
       "overview                172875\n",
       "popularity                   0\n",
       "poster_path             259282\n",
       "tagline                 832412\n",
       "genres                  350710\n",
       "production_companies    503641\n",
       "production_countries    387219\n",
       "spoken_languages        379261\n",
       "dtype: int64"
      ]
     },
     "execution_count": 9,
     "metadata": {},
     "output_type": "execute_result"
    }
   ],
   "source": [
    "df.isnull().sum()"
   ]
  },
  {
   "cell_type": "markdown",
   "metadata": {},
   "source": [
    "### 4.2 - Dropping the column which is not crucial for analysis"
   ]
  },
  {
   "cell_type": "code",
   "execution_count": 10,
   "metadata": {},
   "outputs": [],
   "source": [
    "df.drop(columns=['backdrop_path','poster_path','homepage','imdb_id'], inplace=True)"
   ]
  },
  {
   "cell_type": "markdown",
   "metadata": {},
   "source": [
    "### 4.3 - Removing"
   ]
  },
  {
   "cell_type": "code",
   "execution_count": 11,
   "metadata": {},
   "outputs": [],
   "source": [
    "df=df.dropna(subset=['overview'])\n",
    "df=df.dropna(subset=['genres'])\n",
    "df=df.dropna(subset=['release_date'])\n"
   ]
  },
  {
   "cell_type": "markdown",
   "metadata": {},
   "source": [
    "Here we are removing rows from the DataFrame where the 'overview' column has missing or null values. The 'subset' parameter specifies that only the 'overview' column should be checked for null values, and any rows containing null values in this column will be dropped.and similarly for 'genres' column\n",
    "- This step ensures that the dataset used for analysis and recommendation purposes doesn't have incomplete or null data in these critical columns."
   ]
  },
  {
   "cell_type": "code",
   "execution_count": 12,
   "metadata": {},
   "outputs": [],
   "source": [
    "df = df.dropna(subset=['id','title'])"
   ]
  },
  {
   "cell_type": "markdown",
   "metadata": {},
   "source": [
    "Here we have removed rows from the DataFrame df where either the 'id' or 'title' column has missing values"
   ]
  },
  {
   "cell_type": "markdown",
   "metadata": {},
   "source": [
    "4.3.1 Imputing 'popularity' column with the mean"
   ]
  },
  {
   "cell_type": "code",
   "execution_count": 13,
   "metadata": {},
   "outputs": [],
   "source": [
    "mean_popularity = df['popularity'].mean()\n",
    "df['popularity'].fillna(mean_popularity, inplace=True)"
   ]
  },
  {
   "cell_type": "markdown",
   "metadata": {},
   "source": [
    "Here by replacing missing 'popularity' values with the mean value of the existing data, the code ensures a reasonable approximation for the missing entries."
   ]
  },
  {
   "cell_type": "code",
   "execution_count": 14,
   "metadata": {},
   "outputs": [
    {
     "data": {
      "text/plain": [
       "id                           0\n",
       "title                        0\n",
       "vote_average                 0\n",
       "vote_count                   0\n",
       "status                       0\n",
       "release_date                 0\n",
       "revenue                      0\n",
       "runtime                      0\n",
       "adult                        0\n",
       "budget                       0\n",
       "original_language            0\n",
       "original_title               0\n",
       "overview                     0\n",
       "popularity                   0\n",
       "tagline                 395477\n",
       "genres                       0\n",
       "production_companies    189221\n",
       "production_countries    109439\n",
       "spoken_languages        105508\n",
       "dtype: int64"
      ]
     },
     "execution_count": 14,
     "metadata": {},
     "output_type": "execute_result"
    }
   ],
   "source": [
    "df.isnull().sum()"
   ]
  },
  {
   "cell_type": "markdown",
   "metadata": {},
   "source": [
    "Now we do not have any null values so we can proceed further. I have not removed the null values of 'tagline' , 'production_companies' ,'production_countries' and 'spoken_languages' colomns because in further process this columns are not crucial for recommending "
   ]
  },
  {
   "cell_type": "markdown",
   "metadata": {},
   "source": [
    "### 4.5 - Identifying and Counting Duplicate Rows"
   ]
  },
  {
   "cell_type": "code",
   "execution_count": 15,
   "metadata": {},
   "outputs": [
    {
     "data": {
      "text/plain": [
       "1"
      ]
     },
     "execution_count": 15,
     "metadata": {},
     "output_type": "execute_result"
    }
   ],
   "source": [
    "df.duplicated().sum()"
   ]
  },
  {
   "cell_type": "markdown",
   "metadata": {},
   "source": [
    "### 4.5.1 - Removing Duplicate Entries from the Dataset"
   ]
  },
  {
   "cell_type": "code",
   "execution_count": 16,
   "metadata": {},
   "outputs": [],
   "source": [
    "# Remove duplicates in-place based on all columns\n",
    "df.drop_duplicates(inplace=True)\n"
   ]
  },
  {
   "cell_type": "code",
   "execution_count": 17,
   "metadata": {},
   "outputs": [
    {
     "data": {
      "text/plain": [
       "0"
      ]
     },
     "execution_count": 17,
     "metadata": {},
     "output_type": "execute_result"
    }
   ],
   "source": [
    "df.duplicated().sum()"
   ]
  },
  {
   "cell_type": "markdown",
   "metadata": {},
   "source": [
    "## **5 - Visualizing the data**"
   ]
  },
  {
   "cell_type": "markdown",
   "metadata": {},
   "source": [
    "### 5.1 - Pie Chart: Distribution of Adult and Non-Adult Movies"
   ]
  },
  {
   "cell_type": "code",
   "execution_count": 18,
   "metadata": {},
   "outputs": [
    {
     "data": {
      "image/png": "[encoded data removed]",
      "text/plain": [
       "<Figure size 800x600 with 1 Axes>"
      ]
     },
     "metadata": {},
     "output_type": "display_data"
    }
   ],
   "source": [
    "adult_distribution = df['adult'].value_counts()\n",
    "plt.figure(figsize=(8, 6))\n",
    "plt.pie(adult_distribution, labels=['Non-adult','Adult'], autopct='%1.1f%%', colors=['skyblue', 'red'],explode=(0,0.02))\n",
    "plt.title('Distribution of Adult and Non-Adult Movies')\n",
    "plt.axis('equal')  \n",
    "plt.show()"
   ]
  },
  {
   "cell_type": "markdown",
   "metadata": {},
   "source": [
    "The pie chart illustrates that approximately 98.1% of movies in the dataset are classified as non-adult, while approximately 1.9% fall into the adult category. This indicates a significant dominance of non-adult movies in the dataset."
   ]
  },
  {
   "cell_type": "markdown",
   "metadata": {},
   "source": [
    "## 5.2 - Top 10 popular movies "
   ]
  },
  {
   "cell_type": "code",
   "execution_count": 19,
   "metadata": {},
   "outputs": [
    {
     "data": {
      "image/png": "[encoded data removed]",
      "text/plain": [
       "<Figure size 1000x600 with 1 Axes>"
      ]
     },
     "metadata": {},
     "output_type": "display_data"
    }
   ],
   "source": [
    "popular = df.nlargest(10, 'popularity')\n",
    "plt.figure(figsize=(10, 6))\n",
    "plt.barh(popular['title'],popular['popularity'],color='skyblue')\n",
    "plt.xlabel('Popularity')\n",
    "plt.title('Top 10 Popular Movies')\n",
    "# Inverting y-axis to have the highest popularity at the top\n",
    "plt.gca().invert_yaxis()  \n",
    "plt.tight_layout()\n",
    "plt.show()\n"
   ]
  },
  {
   "cell_type": "markdown",
   "metadata": {},
   "source": [
    "## 5.3 - High Budget Movies"
   ]
  },
  {
   "cell_type": "code",
   "execution_count": 20,
   "metadata": {},
   "outputs": [
    {
     "data": {
      "image/png": "[encoded data removed]",
      "text/plain": [
       "<Figure size 1000x600 with 1 Axes>"
      ]
     },
     "metadata": {},
     "output_type": "display_data"
    }
   ],
   "source": [
    "# Defining the budget thresholds for the bins \n",
    "bins = [0, 50000000, 100000000, 150000000, 200000000, float('inf')]\n",
    "labels = ['< $50M', '$50M - $100M', '$100M - $150M', '$150M - $200M', '> $200M']\n",
    "# Categorizing high-budget movies into budget ranges using pd.cut\n",
    "high_budget_movies = df[df['budget'] > 100000000] \n",
    "high_budget_movies['Budget Range'] = pd.cut(high_budget_movies['budget'], bins=bins, labels=labels)\n",
    "range_counts = high_budget_movies['Budget Range'].value_counts().sort_index()\n",
    "\n",
    "plt.figure(figsize=(10, 6))\n",
    "range_counts.plot(kind='bar', color='skyblue')\n",
    "plt.title('High-Budget Movies by Budget Range')\n",
    "plt.xlabel('Budget Range')\n",
    "plt.ylabel('Number of Movies')\n",
    "plt.xticks(rotation=45)\n",
    "plt.tight_layout()\n",
    "plt.show()\n",
    "\n"
   ]
  },
  {
   "cell_type": "markdown",
   "metadata": {},
   "source": [
    "Here we can assume that highest budget movies falling within 100 Million to 150 Million budget range."
   ]
  },
  {
   "cell_type": "markdown",
   "metadata": {},
   "source": [
    "#### 5.4 - Heatmap\n"
   ]
  },
  {
   "cell_type": "code",
   "execution_count": 21,
   "metadata": {},
   "outputs": [
    {
     "data": {
      "image/png": "[encoded data removed]",
      "text/plain": [
       "<Figure size 1000x800 with 2 Axes>"
      ]
     },
     "metadata": {},
     "output_type": "display_data"
    }
   ],
   "source": [
    "numeric_columns = df.select_dtypes(include=['int64', 'float64'])\n",
    "correlation_matrix = numeric_columns.corr()\n",
    "\n",
    "plt.figure(figsize=(10, 8))\n",
    "sb.heatmap(correlation_matrix, annot=True, cmap='coolwarm', fmt='.2f', linewidths=0.5)\n",
    "plt.title('Correlation Heatmap of Numerical Features')\n",
    "plt.tight_layout()\n",
    "plt.show()\n"
   ]
  },
  {
   "cell_type": "markdown",
   "metadata": {},
   "source": [
    "\n",
    "- **Positive Correlation:** Values close to 1 indicate a strong positive linear relationship between features. As one feature increases, the other tends to increase as well.\n",
    "  \n",
    "- **Negative Correlation:** Values close to -1 indicate a strong negative linear relationship between features. When one feature increases, the other tends to decrease.\n",
    "\n",
    "- **No Correlation (or Weak Correlation):** Values close to 0 imply a weak or no linear relationship between features.\n",
    "\n",
    "#### Key Findings:\n",
    "\n",
    "- Feature pairs with a high positive correlation (values closer to 1) indicate a tendency for those features to move together in the same direction.\n",
    "\n",
    "- Feature pairs with a high negative correlation (values closer to -1) show an inverse relationship where one feature tends to decrease as the other increases.\n",
    "This analysis provides an initial understanding of the relationships among numerical features based on the correlation heatmap.\n"
   ]
  },
  {
   "cell_type": "markdown",
   "metadata": {},
   "source": [
    "## **6 - Preparation for model**"
   ]
  },
  {
   "cell_type": "markdown",
   "metadata": {},
   "source": [
    "### 6.1 - Selecting Essential Columns for Analysis"
   ]
  },
  {
   "cell_type": "code",
   "execution_count": 22,
   "metadata": {},
   "outputs": [],
   "source": [
    "df =df[['id','title','genres','adult','overview','popularity']]"
   ]
  },
  {
   "cell_type": "code",
   "execution_count": 23,
   "metadata": {},
   "outputs": [
    {
     "data": {
      "text/html": [
       "<div>\n",
       "<style scoped>\n",
       "    .dataframe tbody tr th:only-of-type {\n",
       "        vertical-align: middle;\n",
       "    }\n",
       "\n",
       "    .dataframe tbody tr th {\n",
       "        vertical-align: top;\n",
       "    }\n",
       "\n",
       "    .dataframe thead th {\n",
       "        text-align: right;\n",
       "    }\n",
       "</style>\n",
       "<table border=\"1\" class=\"dataframe\">\n",
       "  <thead>\n",
       "    <tr style=\"text-align: right;\">\n",
       "      <th></th>\n",
       "      <th>id</th>\n",
       "      <th>title</th>\n",
       "      <th>genres</th>\n",
       "      <th>adult</th>\n",
       "      <th>overview</th>\n",
       "      <th>popularity</th>\n",
       "    </tr>\n",
       "  </thead>\n",
       "  <tbody>\n",
       "    <tr>\n",
       "      <th>0</th>\n",
       "      <td>27205</td>\n",
       "      <td>Inception</td>\n",
       "      <td>Action, Science Fiction, Adventure</td>\n",
       "      <td>False</td>\n",
       "      <td>Cobb, a skilled thief who commits corporate es...</td>\n",
       "      <td>83.952</td>\n",
       "    </tr>\n",
       "    <tr>\n",
       "      <th>1</th>\n",
       "      <td>157336</td>\n",
       "      <td>Interstellar</td>\n",
       "      <td>Adventure, Drama, Science Fiction</td>\n",
       "      <td>False</td>\n",
       "      <td>The adventures of a group of explorers who mak...</td>\n",
       "      <td>140.241</td>\n",
       "    </tr>\n",
       "    <tr>\n",
       "      <th>2</th>\n",
       "      <td>155</td>\n",
       "      <td>The Dark Knight</td>\n",
       "      <td>Drama, Action, Crime, Thriller</td>\n",
       "      <td>False</td>\n",
       "      <td>Batman raises the stakes in his war on crime. ...</td>\n",
       "      <td>130.643</td>\n",
       "    </tr>\n",
       "    <tr>\n",
       "      <th>3</th>\n",
       "      <td>19995</td>\n",
       "      <td>Avatar</td>\n",
       "      <td>Action, Adventure, Fantasy, Science Fiction</td>\n",
       "      <td>False</td>\n",
       "      <td>In the 22nd century, a paraplegic Marine is di...</td>\n",
       "      <td>79.932</td>\n",
       "    </tr>\n",
       "    <tr>\n",
       "      <th>4</th>\n",
       "      <td>24428</td>\n",
       "      <td>The Avengers</td>\n",
       "      <td>Science Fiction, Action, Adventure</td>\n",
       "      <td>False</td>\n",
       "      <td>When an unexpected enemy emerges and threatens...</td>\n",
       "      <td>98.082</td>\n",
       "    </tr>\n",
       "  </tbody>\n",
       "</table>\n",
       "</div>"
      ],
      "text/plain": [
       "       id            title                                       genres  \\\n",
       "0   27205        Inception           Action, Science Fiction, Adventure   \n",
       "1  157336     Interstellar            Adventure, Drama, Science Fiction   \n",
       "2     155  The Dark Knight               Drama, Action, Crime, Thriller   \n",
       "3   19995           Avatar  Action, Adventure, Fantasy, Science Fiction   \n",
       "4   24428     The Avengers           Science Fiction, Action, Adventure   \n",
       "\n",
       "   adult                                           overview  popularity  \n",
       "0  False  Cobb, a skilled thief who commits corporate es...      83.952  \n",
       "1  False  The adventures of a group of explorers who mak...     140.241  \n",
       "2  False  Batman raises the stakes in his war on crime. ...     130.643  \n",
       "3  False  In the 22nd century, a paraplegic Marine is di...      79.932  \n",
       "4  False  When an unexpected enemy emerges and threatens...      98.082  "
      ]
     },
     "execution_count": 23,
     "metadata": {},
     "output_type": "execute_result"
    }
   ],
   "source": [
    "df.head()"
   ]
  },
  {
   "cell_type": "code",
   "execution_count": 24,
   "metadata": {},
   "outputs": [
    {
     "data": {
      "text/plain": [
       "(503262, 6)"
      ]
     },
     "execution_count": 24,
     "metadata": {},
     "output_type": "execute_result"
    }
   ],
   "source": [
    "df.shape"
   ]
  },
  {
   "cell_type": "markdown",
   "metadata": {},
   "source": [
    "## **7 - Preprocessing Data**"
   ]
  },
  {
   "cell_type": "markdown",
   "metadata": {},
   "source": [
    "#### 7.1 - Converting the string columns in list"
   ]
  },
  {
   "cell_type": "code",
   "execution_count": 25,
   "metadata": {},
   "outputs": [],
   "source": [
    "df['overview']=df['overview'].apply(lambda x:x.split())"
   ]
  },
  {
   "cell_type": "code",
   "execution_count": 26,
   "metadata": {},
   "outputs": [],
   "source": [
    "df['genres']=df['genres'].apply(lambda x:x.split(','))"
   ]
  },
  {
   "cell_type": "markdown",
   "metadata": {},
   "source": [
    "Here we can see in above df.head() that overview and genres are giving significant information about the type of movie so using the words can help us recommend more movies that have same words that why we have first convert it into list."
   ]
  },
  {
   "cell_type": "code",
   "execution_count": 27,
   "metadata": {},
   "outputs": [
    {
     "data": {
      "text/html": [
       "<div>\n",
       "<style scoped>\n",
       "    .dataframe tbody tr th:only-of-type {\n",
       "        vertical-align: middle;\n",
       "    }\n",
       "\n",
       "    .dataframe tbody tr th {\n",
       "        vertical-align: top;\n",
       "    }\n",
       "\n",
       "    .dataframe thead th {\n",
       "        text-align: right;\n",
       "    }\n",
       "</style>\n",
       "<table border=\"1\" class=\"dataframe\">\n",
       "  <thead>\n",
       "    <tr style=\"text-align: right;\">\n",
       "      <th></th>\n",
       "      <th>id</th>\n",
       "      <th>title</th>\n",
       "      <th>genres</th>\n",
       "      <th>adult</th>\n",
       "      <th>overview</th>\n",
       "      <th>popularity</th>\n",
       "    </tr>\n",
       "  </thead>\n",
       "  <tbody>\n",
       "    <tr>\n",
       "      <th>0</th>\n",
       "      <td>27205</td>\n",
       "      <td>Inception</td>\n",
       "      <td>[Action,  Science Fiction,  Adventure]</td>\n",
       "      <td>False</td>\n",
       "      <td>[Cobb,, a, skilled, thief, who, commits, corpo...</td>\n",
       "      <td>83.952</td>\n",
       "    </tr>\n",
       "    <tr>\n",
       "      <th>1</th>\n",
       "      <td>157336</td>\n",
       "      <td>Interstellar</td>\n",
       "      <td>[Adventure,  Drama,  Science Fiction]</td>\n",
       "      <td>False</td>\n",
       "      <td>[The, adventures, of, a, group, of, explorers,...</td>\n",
       "      <td>140.241</td>\n",
       "    </tr>\n",
       "    <tr>\n",
       "      <th>2</th>\n",
       "      <td>155</td>\n",
       "      <td>The Dark Knight</td>\n",
       "      <td>[Drama,  Action,  Crime,  Thriller]</td>\n",
       "      <td>False</td>\n",
       "      <td>[Batman, raises, the, stakes, in, his, war, on...</td>\n",
       "      <td>130.643</td>\n",
       "    </tr>\n",
       "    <tr>\n",
       "      <th>3</th>\n",
       "      <td>19995</td>\n",
       "      <td>Avatar</td>\n",
       "      <td>[Action,  Adventure,  Fantasy,  Science Fiction]</td>\n",
       "      <td>False</td>\n",
       "      <td>[In, the, 22nd, century,, a, paraplegic, Marin...</td>\n",
       "      <td>79.932</td>\n",
       "    </tr>\n",
       "    <tr>\n",
       "      <th>4</th>\n",
       "      <td>24428</td>\n",
       "      <td>The Avengers</td>\n",
       "      <td>[Science Fiction,  Action,  Adventure]</td>\n",
       "      <td>False</td>\n",
       "      <td>[When, an, unexpected, enemy, emerges, and, th...</td>\n",
       "      <td>98.082</td>\n",
       "    </tr>\n",
       "  </tbody>\n",
       "</table>\n",
       "</div>"
      ],
      "text/plain": [
       "       id            title                                            genres  \\\n",
       "0   27205        Inception            [Action,  Science Fiction,  Adventure]   \n",
       "1  157336     Interstellar             [Adventure,  Drama,  Science Fiction]   \n",
       "2     155  The Dark Knight               [Drama,  Action,  Crime,  Thriller]   \n",
       "3   19995           Avatar  [Action,  Adventure,  Fantasy,  Science Fiction]   \n",
       "4   24428     The Avengers            [Science Fiction,  Action,  Adventure]   \n",
       "\n",
       "   adult                                           overview  popularity  \n",
       "0  False  [Cobb,, a, skilled, thief, who, commits, corpo...      83.952  \n",
       "1  False  [The, adventures, of, a, group, of, explorers,...     140.241  \n",
       "2  False  [Batman, raises, the, stakes, in, his, war, on...     130.643  \n",
       "3  False  [In, the, 22nd, century,, a, paraplegic, Marin...      79.932  \n",
       "4  False  [When, an, unexpected, enemy, emerges, and, th...      98.082  "
      ]
     },
     "execution_count": 27,
     "metadata": {},
     "output_type": "execute_result"
    }
   ],
   "source": [
    "df.head()"
   ]
  },
  {
   "cell_type": "markdown",
   "metadata": {},
   "source": [
    "#### 7.2 - Making words in column \"genres\" distinguishable"
   ]
  },
  {
   "cell_type": "code",
   "execution_count": 28,
   "metadata": {},
   "outputs": [],
   "source": [
    "df['genres'] = df['genres'].apply(lambda x:[i.replace(\" \",\"\") for i in x])"
   ]
  },
  {
   "cell_type": "markdown",
   "metadata": {},
   "source": [
    "Some genre names might contain spaces ('Action', 'Science Fiction', 'Romantic Comedy', etc.), which, if left unchanged, could affect the accuracy of  recommender system.\n",
    "By removing spaces from genre names ('Action', 'ScienceFiction', 'RomanticComedy'), we create consistent representations of genres, ensuring that similar genres are treated as identical entities.\n"
   ]
  },
  {
   "cell_type": "code",
   "execution_count": 29,
   "metadata": {},
   "outputs": [
    {
     "data": {
      "text/html": [
       "<div>\n",
       "<style scoped>\n",
       "    .dataframe tbody tr th:only-of-type {\n",
       "        vertical-align: middle;\n",
       "    }\n",
       "\n",
       "    .dataframe tbody tr th {\n",
       "        vertical-align: top;\n",
       "    }\n",
       "\n",
       "    .dataframe thead th {\n",
       "        text-align: right;\n",
       "    }\n",
       "</style>\n",
       "<table border=\"1\" class=\"dataframe\">\n",
       "  <thead>\n",
       "    <tr style=\"text-align: right;\">\n",
       "      <th></th>\n",
       "      <th>id</th>\n",
       "      <th>title</th>\n",
       "      <th>genres</th>\n",
       "      <th>adult</th>\n",
       "      <th>overview</th>\n",
       "      <th>popularity</th>\n",
       "    </tr>\n",
       "  </thead>\n",
       "  <tbody>\n",
       "    <tr>\n",
       "      <th>0</th>\n",
       "      <td>27205</td>\n",
       "      <td>Inception</td>\n",
       "      <td>[Action, ScienceFiction, Adventure]</td>\n",
       "      <td>False</td>\n",
       "      <td>[Cobb,, a, skilled, thief, who, commits, corpo...</td>\n",
       "      <td>83.952</td>\n",
       "    </tr>\n",
       "    <tr>\n",
       "      <th>1</th>\n",
       "      <td>157336</td>\n",
       "      <td>Interstellar</td>\n",
       "      <td>[Adventure, Drama, ScienceFiction]</td>\n",
       "      <td>False</td>\n",
       "      <td>[The, adventures, of, a, group, of, explorers,...</td>\n",
       "      <td>140.241</td>\n",
       "    </tr>\n",
       "    <tr>\n",
       "      <th>2</th>\n",
       "      <td>155</td>\n",
       "      <td>The Dark Knight</td>\n",
       "      <td>[Drama, Action, Crime, Thriller]</td>\n",
       "      <td>False</td>\n",
       "      <td>[Batman, raises, the, stakes, in, his, war, on...</td>\n",
       "      <td>130.643</td>\n",
       "    </tr>\n",
       "    <tr>\n",
       "      <th>3</th>\n",
       "      <td>19995</td>\n",
       "      <td>Avatar</td>\n",
       "      <td>[Action, Adventure, Fantasy, ScienceFiction]</td>\n",
       "      <td>False</td>\n",
       "      <td>[In, the, 22nd, century,, a, paraplegic, Marin...</td>\n",
       "      <td>79.932</td>\n",
       "    </tr>\n",
       "    <tr>\n",
       "      <th>4</th>\n",
       "      <td>24428</td>\n",
       "      <td>The Avengers</td>\n",
       "      <td>[ScienceFiction, Action, Adventure]</td>\n",
       "      <td>False</td>\n",
       "      <td>[When, an, unexpected, enemy, emerges, and, th...</td>\n",
       "      <td>98.082</td>\n",
       "    </tr>\n",
       "  </tbody>\n",
       "</table>\n",
       "</div>"
      ],
      "text/plain": [
       "       id            title                                        genres  \\\n",
       "0   27205        Inception           [Action, ScienceFiction, Adventure]   \n",
       "1  157336     Interstellar            [Adventure, Drama, ScienceFiction]   \n",
       "2     155  The Dark Knight              [Drama, Action, Crime, Thriller]   \n",
       "3   19995           Avatar  [Action, Adventure, Fantasy, ScienceFiction]   \n",
       "4   24428     The Avengers           [ScienceFiction, Action, Adventure]   \n",
       "\n",
       "   adult                                           overview  popularity  \n",
       "0  False  [Cobb,, a, skilled, thief, who, commits, corpo...      83.952  \n",
       "1  False  [The, adventures, of, a, group, of, explorers,...     140.241  \n",
       "2  False  [Batman, raises, the, stakes, in, his, war, on...     130.643  \n",
       "3  False  [In, the, 22nd, century,, a, paraplegic, Marin...      79.932  \n",
       "4  False  [When, an, unexpected, enemy, emerges, and, th...      98.082  "
      ]
     },
     "execution_count": 29,
     "metadata": {},
     "output_type": "execute_result"
    }
   ],
   "source": [
    "df.head()"
   ]
  },
  {
   "cell_type": "markdown",
   "metadata": {},
   "source": [
    "#### 7.3 - Categorizing Movie Content "
   ]
  },
  {
   "cell_type": "code",
   "execution_count": 30,
   "metadata": {},
   "outputs": [],
   "source": [
    "df['adult'] = df['adult'].apply(lambda x: 'kidsfriendly' if x == 'False' else 'adult')\n"
   ]
  },
  {
   "cell_type": "markdown",
   "metadata": {},
   "source": [
    "Here we are converting the boolean 'adult' column to categories ('kidsfriendly' or 'adult') becuause this categorization enabling the recommender system to give recommendations based on the audience type (e.g., recommending 'kidsfriendly' content to younger audiences). "
   ]
  },
  {
   "cell_type": "code",
   "execution_count": 31,
   "metadata": {},
   "outputs": [],
   "source": [
    "df['adult']=df['adult'].apply(lambda x:x.split())"
   ]
  },
  {
   "cell_type": "markdown",
   "metadata": {},
   "source": [
    "## **8 - Combinig transformed data for training**"
   ]
  },
  {
   "cell_type": "code",
   "execution_count": 32,
   "metadata": {},
   "outputs": [],
   "source": [
    "df['tags'] =  df['overview'] + df['genres'] + df['adult'] "
   ]
  },
  {
   "cell_type": "markdown",
   "metadata": {},
   "source": [
    "## **9 - Creating new dataframe for training**"
   ]
  },
  {
   "cell_type": "code",
   "execution_count": 33,
   "metadata": {},
   "outputs": [],
   "source": [
    "new_df = df[['id','title','tags']]"
   ]
  },
  {
   "cell_type": "code",
   "execution_count": 34,
   "metadata": {},
   "outputs": [
    {
     "data": {
      "text/html": [
       "<div>\n",
       "<style scoped>\n",
       "    .dataframe tbody tr th:only-of-type {\n",
       "        vertical-align: middle;\n",
       "    }\n",
       "\n",
       "    .dataframe tbody tr th {\n",
       "        vertical-align: top;\n",
       "    }\n",
       "\n",
       "    .dataframe thead th {\n",
       "        text-align: right;\n",
       "    }\n",
       "</style>\n",
       "<table border=\"1\" class=\"dataframe\">\n",
       "  <thead>\n",
       "    <tr style=\"text-align: right;\">\n",
       "      <th></th>\n",
       "      <th>id</th>\n",
       "      <th>title</th>\n",
       "      <th>tags</th>\n",
       "    </tr>\n",
       "  </thead>\n",
       "  <tbody>\n",
       "    <tr>\n",
       "      <th>0</th>\n",
       "      <td>27205</td>\n",
       "      <td>Inception</td>\n",
       "      <td>[Cobb,, a, skilled, thief, who, commits, corpo...</td>\n",
       "    </tr>\n",
       "    <tr>\n",
       "      <th>1</th>\n",
       "      <td>157336</td>\n",
       "      <td>Interstellar</td>\n",
       "      <td>[The, adventures, of, a, group, of, explorers,...</td>\n",
       "    </tr>\n",
       "    <tr>\n",
       "      <th>2</th>\n",
       "      <td>155</td>\n",
       "      <td>The Dark Knight</td>\n",
       "      <td>[Batman, raises, the, stakes, in, his, war, on...</td>\n",
       "    </tr>\n",
       "    <tr>\n",
       "      <th>3</th>\n",
       "      <td>19995</td>\n",
       "      <td>Avatar</td>\n",
       "      <td>[In, the, 22nd, century,, a, paraplegic, Marin...</td>\n",
       "    </tr>\n",
       "    <tr>\n",
       "      <th>4</th>\n",
       "      <td>24428</td>\n",
       "      <td>The Avengers</td>\n",
       "      <td>[When, an, unexpected, enemy, emerges, and, th...</td>\n",
       "    </tr>\n",
       "    <tr>\n",
       "      <th>...</th>\n",
       "      <td>...</td>\n",
       "      <td>...</td>\n",
       "      <td>...</td>\n",
       "    </tr>\n",
       "    <tr>\n",
       "      <th>972588</th>\n",
       "      <td>650248</td>\n",
       "      <td>Nycto</td>\n",
       "      <td>[A, short, film, made, by, students, on, the, ...</td>\n",
       "    </tr>\n",
       "    <tr>\n",
       "      <th>972600</th>\n",
       "      <td>650296</td>\n",
       "      <td>Explorers</td>\n",
       "      <td>[Explorers, is, a, idealistic, look, at, the, ...</td>\n",
       "    </tr>\n",
       "    <tr>\n",
       "      <th>972601</th>\n",
       "      <td>650297</td>\n",
       "      <td>Cursive II</td>\n",
       "      <td>[Lin, Hwai-min's, Cursive, II, is, inspired, b...</td>\n",
       "    </tr>\n",
       "    <tr>\n",
       "      <th>972608</th>\n",
       "      <td>650249</td>\n",
       "      <td>Victorian Farm Christmas</td>\n",
       "      <td>[Victorian, Farm, Christmas, looks, into, the,...</td>\n",
       "    </tr>\n",
       "    <tr>\n",
       "      <th>972621</th>\n",
       "      <td>650267</td>\n",
       "      <td>Accordion Girl</td>\n",
       "      <td>[A, girl, with, an, accordion, body, tries, to...</td>\n",
       "    </tr>\n",
       "  </tbody>\n",
       "</table>\n",
       "<p>503262 rows × 3 columns</p>\n",
       "</div>"
      ],
      "text/plain": [
       "            id                     title  \\\n",
       "0        27205                 Inception   \n",
       "1       157336              Interstellar   \n",
       "2          155           The Dark Knight   \n",
       "3        19995                    Avatar   \n",
       "4        24428              The Avengers   \n",
       "...        ...                       ...   \n",
       "972588  650248                     Nycto   \n",
       "972600  650296                 Explorers   \n",
       "972601  650297                Cursive II   \n",
       "972608  650249  Victorian Farm Christmas   \n",
       "972621  650267            Accordion Girl   \n",
       "\n",
       "                                                     tags  \n",
       "0       [Cobb,, a, skilled, thief, who, commits, corpo...  \n",
       "1       [The, adventures, of, a, group, of, explorers,...  \n",
       "2       [Batman, raises, the, stakes, in, his, war, on...  \n",
       "3       [In, the, 22nd, century,, a, paraplegic, Marin...  \n",
       "4       [When, an, unexpected, enemy, emerges, and, th...  \n",
       "...                                                   ...  \n",
       "972588  [A, short, film, made, by, students, on, the, ...  \n",
       "972600  [Explorers, is, a, idealistic, look, at, the, ...  \n",
       "972601  [Lin, Hwai-min's, Cursive, II, is, inspired, b...  \n",
       "972608  [Victorian, Farm, Christmas, looks, into, the,...  \n",
       "972621  [A, girl, with, an, accordion, body, tries, to...  \n",
       "\n",
       "[503262 rows x 3 columns]"
      ]
     },
     "execution_count": 34,
     "metadata": {},
     "output_type": "execute_result"
    }
   ],
   "source": [
    "new_df"
   ]
  },
  {
   "cell_type": "markdown",
   "metadata": {},
   "source": [
    "## **10 - Merging Tags into Single Strings**"
   ]
  },
  {
   "cell_type": "code",
   "execution_count": 35,
   "metadata": {},
   "outputs": [],
   "source": [
    "new_df['tags'] = new_df['tags'].apply(lambda x:\" \".join(x))"
   ]
  },
  {
   "cell_type": "markdown",
   "metadata": {},
   "source": [
    "## **11 - Integration of NLTK Library for Text Processing**"
   ]
  },
  {
   "cell_type": "code",
   "execution_count": 36,
   "metadata": {},
   "outputs": [],
   "source": [
    "import nltk"
   ]
  },
  {
   "cell_type": "markdown",
   "metadata": {},
   "source": [
    "### 11.1 - Initializing Porter Stemmer for Word Stemming"
   ]
  },
  {
   "cell_type": "code",
   "execution_count": 37,
   "metadata": {},
   "outputs": [],
   "source": [
    "from nltk.stem.porter import PorterStemmer\n",
    "ps = PorterStemmer()"
   ]
  },
  {
   "cell_type": "markdown",
   "metadata": {},
   "source": [
    "It helps reduce words to their base forms by removing affixes. Initializing this stemmer instance (ps) enables the capability to transform words into their base forms, potentially aiding in text processing  within the movie recommender system"
   ]
  },
  {
   "cell_type": "markdown",
   "metadata": {},
   "source": [
    "### Stemming Function with Porter Stemmer"
   ]
  },
  {
   "cell_type": "code",
   "execution_count": 38,
   "metadata": {},
   "outputs": [],
   "source": [
    "def stem(txt):\n",
    "    y= []\n",
    "    for i in txt.split():\n",
    "        y.append(ps.stem(i))\n",
    "    return \" \".join(y)\n",
    "     "
   ]
  },
  {
   "cell_type": "code",
   "execution_count": 39,
   "metadata": {},
   "outputs": [],
   "source": [
    "new_df = new_df.head(25000)"
   ]
  },
  {
   "cell_type": "markdown",
   "metadata": {},
   "source": [
    "**Taking 25k data in dataframe for modeling because not able to perform the process even after increasing paging size.** \n",
    " **Error:**\n",
    "- <span style=\"color:red\">MemoryError: Unable to allocate 1.84 TiB for an array with shape (253272640644,) and data type int64</span>\n"
   ]
  },
  {
   "cell_type": "markdown",
   "metadata": {},
   "source": [
    "This custom stem function encapsulates the logic required to apply stemming operations to text data"
   ]
  },
  {
   "cell_type": "markdown",
   "metadata": {},
   "source": [
    "### Applying Stemming to 'Tags' Column"
   ]
  },
  {
   "cell_type": "code",
   "execution_count": 40,
   "metadata": {},
   "outputs": [],
   "source": [
    "new_df['tags'] = new_df['tags'].apply(stem)"
   ]
  },
  {
   "cell_type": "markdown",
   "metadata": {},
   "source": [
    "### Conversion to Lowercase for 'Tags' Column"
   ]
  },
  {
   "cell_type": "code",
   "execution_count": 41,
   "metadata": {},
   "outputs": [],
   "source": [
    "new_df['tags'] = new_df['tags'].apply(lambda x:x.lower())"
   ]
  },
  {
   "cell_type": "markdown",
   "metadata": {},
   "source": [
    "This transformation ensures uniformity in the 'tags' column by converting all text to lowercase. Making the text consistent in case facilitates easier comparisons, analysis, or processing within the movie recommender system"
   ]
  },
  {
   "cell_type": "markdown",
   "metadata": {},
   "source": [
    "## **12 - Importing CountVectorizer for Text Processing**"
   ]
  },
  {
   "cell_type": "code",
   "execution_count": 42,
   "metadata": {},
   "outputs": [],
   "source": [
    "from sklearn.feature_extraction.text import CountVectorizer"
   ]
  },
  {
   "cell_type": "markdown",
   "metadata": {},
   "source": [
    "### 12.1 - Setting up CountVectorizer"
   ]
  },
  {
   "cell_type": "code",
   "execution_count": 43,
   "metadata": {},
   "outputs": [],
   "source": [
    "cv = CountVectorizer(max_features=5000,stop_words='english',encoding='utf-8')"
   ]
  },
  {
   "cell_type": "markdown",
   "metadata": {},
   "source": [
    "- max_features=5000: It specifies the maximum number of words to consider during text transformation. It limits the features to 11,000, meaning only the top 5000 most frequent words will be retained for vectorization.\n",
    "\n",
    "- stop_words='english': It declares that English stop words, such as common and less informative words like \"the\", \"and\", \"is\", etc., will be excluded during the text transformation process"
   ]
  },
  {
   "cell_type": "code",
   "execution_count": 44,
   "metadata": {},
   "outputs": [
    {
     "data": {
      "text/plain": [
       "(25000, 5000)"
      ]
     },
     "execution_count": 44,
     "metadata": {},
     "output_type": "execute_result"
    }
   ],
   "source": [
    "vectors = cv.fit_transform(new_df['tags'].values.astype(str))\n",
    "vectors.shape"
   ]
  },
  {
   "cell_type": "markdown",
   "metadata": {},
   "source": [
    "Here , By using fit_transform(), the textual information within the 'tags' column is converted into a matrix format suitable for machine learning model. Each row represents a text from the 'tags', and each column denotes a unique word from the vocabulary, with matrix values reflecting the frequency of each word's occurrence in the respective documents."
   ]
  },
  {
   "cell_type": "markdown",
   "metadata": {},
   "source": [
    "### 12.2 - Retrieving Feature Names from CountVectorizer"
   ]
  },
  {
   "cell_type": "code",
   "execution_count": 45,
   "metadata": {},
   "outputs": [
    {
     "data": {
      "text/plain": [
       "array(['000', '10', '100', ..., 'zombies', 'zone', 'zoo'], dtype=object)"
      ]
     },
     "execution_count": 45,
     "metadata": {},
     "output_type": "execute_result"
    }
   ],
   "source": [
    "cv.get_feature_names_out()"
   ]
  },
  {
   "cell_type": "markdown",
   "metadata": {},
   "source": [
    "## **13 - Cosine Similarity Calculation**"
   ]
  },
  {
   "cell_type": "code",
   "execution_count": 46,
   "metadata": {},
   "outputs": [],
   "source": [
    "from sklearn.metrics.pairwise import cosine_similarity\n"
   ]
  },
  {
   "cell_type": "markdown",
   "metadata": {},
   "source": [
    "This function is used to calculate the similarity between different movies based on their feature representations, assisting in recommending similar movies to users based on their preferences."
   ]
  },
  {
   "cell_type": "code",
   "execution_count": 47,
   "metadata": {},
   "outputs": [],
   "source": [
    "similar = cosine_similarity(vectors)"
   ]
  },
  {
   "cell_type": "code",
   "execution_count": 48,
   "metadata": {},
   "outputs": [
    {
     "data": {
      "text/plain": [
       "array([[1.        , 0.16495722, 0.11026357, ..., 0.05976143, 0.06185896,\n",
       "        0.04029115],\n",
       "       [0.16495722, 1.        , 0.0636607 , ..., 0.13801311, 0.04761905,\n",
       "        0.09304842],\n",
       "       [0.11026357, 0.0636607 , 1.        , ..., 0.09225312, 0.04774553,\n",
       "        0.12439408],\n",
       "       ...,\n",
       "       [0.05976143, 0.13801311, 0.09225312, ..., 1.        , 0.10350983,\n",
       "        0.13483997],\n",
       "       [0.06185896, 0.04761905, 0.04774553, ..., 0.10350983, 1.        ,\n",
       "        0.04652421],\n",
       "       [0.04029115, 0.09304842, 0.12439408, ..., 0.13483997, 0.04652421,\n",
       "        1.        ]])"
      ]
     },
     "execution_count": 48,
     "metadata": {},
     "output_type": "execute_result"
    }
   ],
   "source": [
    "similar"
   ]
  },
  {
   "cell_type": "markdown",
   "metadata": {},
   "source": [
    "## **Movie Recommendation Function Based on Similarity**"
   ]
  },
  {
   "cell_type": "code",
   "execution_count": 49,
   "metadata": {},
   "outputs": [],
   "source": [
    "def recommend(movie):\n",
    "    index = new_df[new_df['title'] == movie].index[0]\n",
    "    distances = sorted(list(enumerate(similar[index])),reverse=True,key = lambda x: x[1])\n",
    "    for i in distances[1:6]:\n",
    "        print(new_df.iloc[i[0]].title)\n",
    "    "
   ]
  },
  {
   "cell_type": "markdown",
   "metadata": {},
   "source": [
    "This function performs:\n",
    "- Retrieving the index of the input movie title within the DataFrame new_df.\n",
    "- Calculating the similarity scores between the input movie and other movies based on the similar matrix and\n",
    "Sorts the movies based on their similarity scores in descending order.\n",
    "- Printing the titles of the top five most similar movies to the provided movie title."
   ]
  },
  {
   "cell_type": "code",
   "execution_count": 50,
   "metadata": {},
   "outputs": [
    {
     "name": "stdout",
     "output_type": "stream",
     "text": [
      "Dr. Strange\n",
      "Inuyashiki\n",
      "Inhumans: The First Chapter\n",
      "Gintama\n",
      "Trollhunters: Rise of the Titans\n"
     ]
    }
   ],
   "source": [
    "recommend('Avatar')"
   ]
  },
  {
   "cell_type": "code",
   "execution_count": 51,
   "metadata": {},
   "outputs": [
    {
     "data": {
      "text/plain": [
       "'Now You See Me'"
      ]
     },
     "execution_count": 51,
     "metadata": {},
     "output_type": "execute_result"
    }
   ],
   "source": [
    "new_df.iloc[111].title"
   ]
  }
 ],
 "metadata": {
  "kernelspec": {
   "display_name": "Python 3",
   "language": "python",
   "name": "python3"
  },
  "language_info": {
   "codemirror_mode": {
    "name": "ipython",
    "version": 3
   },
   "file_extension": ".py",
   "mimetype": "text/x-python",
   "name": "python",
   "nbconvert_exporter": "python",
   "pygments_lexer": "ipython3",
   "version": "3.11.5"
  }
 },
 "nbformat": 4,
 "nbformat_minor": 2
}
